{
 "cells": [
  {
   "cell_type": "markdown",
   "metadata": {},
   "source": [
    "# Introduction to Neural Networks - Lab"
   ]
  },
  {
   "cell_type": "markdown",
   "metadata": {},
   "source": [
    "## Introduction"
   ]
  },
  {
   "cell_type": "markdown",
   "metadata": {},
   "source": [
    "In this lab, you'll practice everything you have learned during the lecture. We know there is quite a bit of math involved, but don't worry! Using Python and trying things out yourself will actually make a lot of things much more clear! Before we start, let's load some necessary libraries so we can import our data."
   ]
  },
  {
   "cell_type": "markdown",
   "metadata": {},
   "source": [
    "## Objectives\n",
    "\n",
    "In this lab you will:\n",
    "\n",
    "- Import images using Keras \n",
    "- Build a \"shallow\" neural network from scratch "
   ]
  },
  {
   "cell_type": "markdown",
   "metadata": {},
   "source": [
    "As usual, we'll start by importing the necessary packages that we'll use in this lab. "
   ]
  },
  {
   "cell_type": "code",
   "execution_count": 9,
   "metadata": {},
   "outputs": [
    {
     "name": "stdout",
     "output_type": "stream",
     "text": [
      "Collecting keras\n",
      "  Downloading keras-3.5.0-py3-none-any.whl.metadata (5.8 kB)\n",
      "Collecting absl-py (from keras)\n",
      "  Downloading absl_py-2.1.0-py3-none-any.whl.metadata (2.3 kB)\n",
      "Requirement already satisfied: numpy in c:\\users\\ksongire\\appdata\\local\\anaconda3\\lib\\site-packages (from keras) (1.26.4)\n",
      "Requirement already satisfied: rich in c:\\users\\ksongire\\appdata\\local\\anaconda3\\lib\\site-packages (from keras) (13.3.5)\n",
      "Collecting namex (from keras)\n",
      "  Downloading namex-0.0.8-py3-none-any.whl.metadata (246 bytes)\n",
      "Requirement already satisfied: h5py in c:\\users\\ksongire\\appdata\\local\\anaconda3\\lib\\site-packages (from keras) (3.11.0)\n",
      "Collecting optree (from keras)\n",
      "  Downloading optree-0.12.1-cp312-cp312-win_amd64.whl.metadata (48 kB)\n",
      "     ---------------------------------------- 0.0/48.7 kB ? eta -:--:--\n",
      "     --------------- ---------------------- 20.5/48.7 kB 682.7 kB/s eta 0:00:01\n",
      "     ------------------------------- ------ 41.0/48.7 kB 667.8 kB/s eta 0:00:01\n",
      "     -------------------------------------- 48.7/48.7 kB 492.9 kB/s eta 0:00:00\n",
      "Collecting ml-dtypes (from keras)\n",
      "  Downloading ml_dtypes-0.5.0-cp312-cp312-win_amd64.whl.metadata (22 kB)\n",
      "Requirement already satisfied: packaging in c:\\users\\ksongire\\appdata\\local\\anaconda3\\lib\\site-packages (from keras) (23.2)\n",
      "Requirement already satisfied: typing-extensions>=4.5.0 in c:\\users\\ksongire\\appdata\\local\\anaconda3\\lib\\site-packages (from optree->keras) (4.11.0)\n",
      "Requirement already satisfied: markdown-it-py<3.0.0,>=2.2.0 in c:\\users\\ksongire\\appdata\\local\\anaconda3\\lib\\site-packages (from rich->keras) (2.2.0)\n",
      "Requirement already satisfied: pygments<3.0.0,>=2.13.0 in c:\\users\\ksongire\\appdata\\local\\anaconda3\\lib\\site-packages (from rich->keras) (2.15.1)\n",
      "Requirement already satisfied: mdurl~=0.1 in c:\\users\\ksongire\\appdata\\local\\anaconda3\\lib\\site-packages (from markdown-it-py<3.0.0,>=2.2.0->rich->keras) (0.1.0)\n",
      "Downloading keras-3.5.0-py3-none-any.whl (1.1 MB)\n",
      "   ---------------------------------------- 0.0/1.1 MB ? eta -:--:--\n",
      "   ------------ --------------------------- 0.4/1.1 MB 10.9 MB/s eta 0:00:01\n",
      "   ---------------------------------------  1.1/1.1 MB 14.3 MB/s eta 0:00:01\n",
      "   ---------------------------------------- 1.1/1.1 MB 12.1 MB/s eta 0:00:00\n",
      "Downloading absl_py-2.1.0-py3-none-any.whl (133 kB)\n",
      "   ---------------------------------------- 0.0/133.7 kB ? eta -:--:--\n",
      "   ---------------------------------------- 133.7/133.7 kB 3.9 MB/s eta 0:00:00\n",
      "Downloading ml_dtypes-0.5.0-cp312-cp312-win_amd64.whl (213 kB)\n",
      "   ---------------------------------------- 0.0/213.2 kB ? eta -:--:--\n",
      "   --------------------------------------- 213.2/213.2 kB 12.7 MB/s eta 0:00:00\n",
      "Downloading namex-0.0.8-py3-none-any.whl (5.8 kB)\n",
      "Downloading optree-0.12.1-cp312-cp312-win_amd64.whl (267 kB)\n",
      "   ---------------------------------------- 0.0/267.2 kB ? eta -:--:--\n",
      "   ---------------------------------------- 267.2/267.2 kB 8.0 MB/s eta 0:00:00\n",
      "Installing collected packages: namex, optree, ml-dtypes, absl-py, keras\n",
      "Successfully installed absl-py-2.1.0 keras-3.5.0 ml-dtypes-0.5.0 namex-0.0.8 optree-0.12.1\n",
      "Note: you may need to restart the kernel to use updated packages.\n"
     ]
    }
   ],
   "source": [
    "pip install keras"
   ]
  },
  {
   "cell_type": "code",
   "execution_count": 11,
   "metadata": {},
   "outputs": [
    {
     "name": "stdout",
     "output_type": "stream",
     "text": [
      "Collecting tensorflow\n",
      "  Downloading tensorflow-2.17.0-cp312-cp312-win_amd64.whl.metadata (3.2 kB)\n",
      "Collecting tensorflow-intel==2.17.0 (from tensorflow)\n",
      "  Downloading tensorflow_intel-2.17.0-cp312-cp312-win_amd64.whl.metadata (5.0 kB)\n",
      "Requirement already satisfied: absl-py>=1.0.0 in c:\\users\\ksongire\\appdata\\local\\anaconda3\\lib\\site-packages (from tensorflow-intel==2.17.0->tensorflow) (2.1.0)\n",
      "Collecting astunparse>=1.6.0 (from tensorflow-intel==2.17.0->tensorflow)\n",
      "  Downloading astunparse-1.6.3-py2.py3-none-any.whl.metadata (4.4 kB)\n",
      "Collecting flatbuffers>=24.3.25 (from tensorflow-intel==2.17.0->tensorflow)\n",
      "  Downloading flatbuffers-24.3.25-py2.py3-none-any.whl.metadata (850 bytes)\n",
      "Collecting gast!=0.5.0,!=0.5.1,!=0.5.2,>=0.2.1 (from tensorflow-intel==2.17.0->tensorflow)\n",
      "  Downloading gast-0.6.0-py3-none-any.whl.metadata (1.3 kB)\n",
      "Collecting google-pasta>=0.1.1 (from tensorflow-intel==2.17.0->tensorflow)\n",
      "  Downloading google_pasta-0.2.0-py3-none-any.whl.metadata (814 bytes)\n",
      "Requirement already satisfied: h5py>=3.10.0 in c:\\users\\ksongire\\appdata\\local\\anaconda3\\lib\\site-packages (from tensorflow-intel==2.17.0->tensorflow) (3.11.0)\n",
      "Collecting libclang>=13.0.0 (from tensorflow-intel==2.17.0->tensorflow)\n",
      "  Downloading libclang-18.1.1-py2.py3-none-win_amd64.whl.metadata (5.3 kB)\n",
      "Collecting ml-dtypes<0.5.0,>=0.3.1 (from tensorflow-intel==2.17.0->tensorflow)\n",
      "  Downloading ml_dtypes-0.4.1-cp312-cp312-win_amd64.whl.metadata (20 kB)\n",
      "Collecting opt-einsum>=2.3.2 (from tensorflow-intel==2.17.0->tensorflow)\n",
      "  Downloading opt_einsum-3.3.0-py3-none-any.whl.metadata (6.5 kB)\n",
      "Requirement already satisfied: packaging in c:\\users\\ksongire\\appdata\\local\\anaconda3\\lib\\site-packages (from tensorflow-intel==2.17.0->tensorflow) (23.2)\n",
      "Requirement already satisfied: protobuf!=4.21.0,!=4.21.1,!=4.21.2,!=4.21.3,!=4.21.4,!=4.21.5,<5.0.0dev,>=3.20.3 in c:\\users\\ksongire\\appdata\\local\\anaconda3\\lib\\site-packages (from tensorflow-intel==2.17.0->tensorflow) (3.20.3)\n",
      "Requirement already satisfied: requests<3,>=2.21.0 in c:\\users\\ksongire\\appdata\\local\\anaconda3\\lib\\site-packages (from tensorflow-intel==2.17.0->tensorflow) (2.32.2)\n",
      "Requirement already satisfied: setuptools in c:\\users\\ksongire\\appdata\\local\\anaconda3\\lib\\site-packages (from tensorflow-intel==2.17.0->tensorflow) (69.5.1)\n",
      "Requirement already satisfied: six>=1.12.0 in c:\\users\\ksongire\\appdata\\local\\anaconda3\\lib\\site-packages (from tensorflow-intel==2.17.0->tensorflow) (1.16.0)\n",
      "Collecting termcolor>=1.1.0 (from tensorflow-intel==2.17.0->tensorflow)\n",
      "  Downloading termcolor-2.4.0-py3-none-any.whl.metadata (6.1 kB)\n",
      "Requirement already satisfied: typing-extensions>=3.6.6 in c:\\users\\ksongire\\appdata\\local\\anaconda3\\lib\\site-packages (from tensorflow-intel==2.17.0->tensorflow) (4.11.0)\n",
      "Requirement already satisfied: wrapt>=1.11.0 in c:\\users\\ksongire\\appdata\\local\\anaconda3\\lib\\site-packages (from tensorflow-intel==2.17.0->tensorflow) (1.14.1)\n",
      "Collecting grpcio<2.0,>=1.24.3 (from tensorflow-intel==2.17.0->tensorflow)\n",
      "  Downloading grpcio-1.66.1-cp312-cp312-win_amd64.whl.metadata (4.0 kB)\n",
      "Collecting tensorboard<2.18,>=2.17 (from tensorflow-intel==2.17.0->tensorflow)\n",
      "  Downloading tensorboard-2.17.1-py3-none-any.whl.metadata (1.6 kB)\n",
      "Requirement already satisfied: keras>=3.2.0 in c:\\users\\ksongire\\appdata\\local\\anaconda3\\lib\\site-packages (from tensorflow-intel==2.17.0->tensorflow) (3.5.0)\n",
      "Requirement already satisfied: numpy<2.0.0,>=1.26.0 in c:\\users\\ksongire\\appdata\\local\\anaconda3\\lib\\site-packages (from tensorflow-intel==2.17.0->tensorflow) (1.26.4)\n",
      "Requirement already satisfied: wheel<1.0,>=0.23.0 in c:\\users\\ksongire\\appdata\\local\\anaconda3\\lib\\site-packages (from astunparse>=1.6.0->tensorflow-intel==2.17.0->tensorflow) (0.43.0)\n",
      "Requirement already satisfied: rich in c:\\users\\ksongire\\appdata\\local\\anaconda3\\lib\\site-packages (from keras>=3.2.0->tensorflow-intel==2.17.0->tensorflow) (13.3.5)\n",
      "Requirement already satisfied: namex in c:\\users\\ksongire\\appdata\\local\\anaconda3\\lib\\site-packages (from keras>=3.2.0->tensorflow-intel==2.17.0->tensorflow) (0.0.8)\n",
      "Requirement already satisfied: optree in c:\\users\\ksongire\\appdata\\local\\anaconda3\\lib\\site-packages (from keras>=3.2.0->tensorflow-intel==2.17.0->tensorflow) (0.12.1)\n",
      "Requirement already satisfied: charset-normalizer<4,>=2 in c:\\users\\ksongire\\appdata\\local\\anaconda3\\lib\\site-packages (from requests<3,>=2.21.0->tensorflow-intel==2.17.0->tensorflow) (2.0.4)\n",
      "Requirement already satisfied: idna<4,>=2.5 in c:\\users\\ksongire\\appdata\\local\\anaconda3\\lib\\site-packages (from requests<3,>=2.21.0->tensorflow-intel==2.17.0->tensorflow) (3.7)\n",
      "Requirement already satisfied: urllib3<3,>=1.21.1 in c:\\users\\ksongire\\appdata\\local\\anaconda3\\lib\\site-packages (from requests<3,>=2.21.0->tensorflow-intel==2.17.0->tensorflow) (2.2.2)\n",
      "Requirement already satisfied: certifi>=2017.4.17 in c:\\users\\ksongire\\appdata\\local\\anaconda3\\lib\\site-packages (from requests<3,>=2.21.0->tensorflow-intel==2.17.0->tensorflow) (2024.6.2)\n",
      "Requirement already satisfied: markdown>=2.6.8 in c:\\users\\ksongire\\appdata\\local\\anaconda3\\lib\\site-packages (from tensorboard<2.18,>=2.17->tensorflow-intel==2.17.0->tensorflow) (3.4.1)\n",
      "Collecting tensorboard-data-server<0.8.0,>=0.7.0 (from tensorboard<2.18,>=2.17->tensorflow-intel==2.17.0->tensorflow)\n",
      "  Downloading tensorboard_data_server-0.7.2-py3-none-any.whl.metadata (1.1 kB)\n",
      "Requirement already satisfied: werkzeug>=1.0.1 in c:\\users\\ksongire\\appdata\\local\\anaconda3\\lib\\site-packages (from tensorboard<2.18,>=2.17->tensorflow-intel==2.17.0->tensorflow) (3.0.3)\n",
      "Requirement already satisfied: MarkupSafe>=2.1.1 in c:\\users\\ksongire\\appdata\\local\\anaconda3\\lib\\site-packages (from werkzeug>=1.0.1->tensorboard<2.18,>=2.17->tensorflow-intel==2.17.0->tensorflow) (2.1.3)\n",
      "Requirement already satisfied: markdown-it-py<3.0.0,>=2.2.0 in c:\\users\\ksongire\\appdata\\local\\anaconda3\\lib\\site-packages (from rich->keras>=3.2.0->tensorflow-intel==2.17.0->tensorflow) (2.2.0)\n",
      "Requirement already satisfied: pygments<3.0.0,>=2.13.0 in c:\\users\\ksongire\\appdata\\local\\anaconda3\\lib\\site-packages (from rich->keras>=3.2.0->tensorflow-intel==2.17.0->tensorflow) (2.15.1)\n",
      "Requirement already satisfied: mdurl~=0.1 in c:\\users\\ksongire\\appdata\\local\\anaconda3\\lib\\site-packages (from markdown-it-py<3.0.0,>=2.2.0->rich->keras>=3.2.0->tensorflow-intel==2.17.0->tensorflow) (0.1.0)\n",
      "Downloading tensorflow-2.17.0-cp312-cp312-win_amd64.whl (2.0 kB)\n",
      "Downloading tensorflow_intel-2.17.0-cp312-cp312-win_amd64.whl (385.2 MB)\n",
      "   ---------------------------------------- 0.0/385.2 MB ? eta -:--:--\n",
      "   ---------------------------------------- 1.2/385.2 MB 39.6 MB/s eta 0:00:10\n",
      "   ---------------------------------------- 2.9/385.2 MB 36.8 MB/s eta 0:00:11\n",
      "   ---------------------------------------- 3.8/385.2 MB 30.6 MB/s eta 0:00:13\n",
      "    --------------------------------------- 4.9/385.2 MB 28.6 MB/s eta 0:00:14\n",
      "    --------------------------------------- 8.3/385.2 MB 40.6 MB/s eta 0:00:10\n",
      "   - -------------------------------------- 11.4/385.2 MB 46.7 MB/s eta 0:00:09\n",
      "   - -------------------------------------- 13.8/385.2 MB 59.8 MB/s eta 0:00:07\n",
      "   - -------------------------------------- 16.8/385.2 MB 72.6 MB/s eta 0:00:06\n",
      "   -- ------------------------------------- 20.0/385.2 MB 65.2 MB/s eta 0:00:06\n",
      "   -- ------------------------------------- 22.4/385.2 MB 54.7 MB/s eta 0:00:07\n",
      "   -- ------------------------------------- 24.8/385.2 MB 59.5 MB/s eta 0:00:07\n",
      "   -- ------------------------------------- 28.3/385.2 MB 54.7 MB/s eta 0:00:07\n",
      "   --- ------------------------------------ 31.5/385.2 MB 59.5 MB/s eta 0:00:06\n",
      "   --- ------------------------------------ 34.0/385.2 MB 65.2 MB/s eta 0:00:06\n",
      "   --- ------------------------------------ 35.9/385.2 MB 59.8 MB/s eta 0:00:06\n",
      "   ---- ----------------------------------- 38.6/385.2 MB 54.4 MB/s eta 0:00:07\n",
      "   ---- ----------------------------------- 40.5/385.2 MB 54.7 MB/s eta 0:00:07\n",
      "   ---- ----------------------------------- 42.4/385.2 MB 46.7 MB/s eta 0:00:08\n",
      "   ---- ----------------------------------- 44.2/385.2 MB 43.7 MB/s eta 0:00:08\n",
      "   ---- ----------------------------------- 47.1/385.2 MB 46.7 MB/s eta 0:00:08\n",
      "   ----- ---------------------------------- 50.1/385.2 MB 54.4 MB/s eta 0:00:07\n",
      "   ----- ---------------------------------- 52.0/385.2 MB 54.4 MB/s eta 0:00:07\n",
      "   ----- ---------------------------------- 54.9/385.2 MB 59.8 MB/s eta 0:00:06\n",
      "   ----- ---------------------------------- 57.2/385.2 MB 54.7 MB/s eta 0:00:06\n",
      "   ------ --------------------------------- 59.4/385.2 MB 54.4 MB/s eta 0:00:06\n",
      "   ------ --------------------------------- 61.9/385.2 MB 54.7 MB/s eta 0:00:06\n",
      "   ------ --------------------------------- 64.9/385.2 MB 54.7 MB/s eta 0:00:06\n",
      "   ------- -------------------------------- 68.3/385.2 MB 54.4 MB/s eta 0:00:06\n",
      "   ------- -------------------------------- 71.4/385.2 MB 59.5 MB/s eta 0:00:06\n",
      "   ------- -------------------------------- 71.7/385.2 MB 54.7 MB/s eta 0:00:06\n",
      "   ------- -------------------------------- 74.3/385.2 MB 50.4 MB/s eta 0:00:07\n",
      "   ------- -------------------------------- 77.0/385.2 MB 54.4 MB/s eta 0:00:06\n",
      "   -------- ------------------------------- 79.7/385.2 MB 54.4 MB/s eta 0:00:06\n",
      "   -------- ------------------------------- 83.0/385.2 MB 65.6 MB/s eta 0:00:05\n",
      "   -------- ------------------------------- 86.3/385.2 MB 65.6 MB/s eta 0:00:05\n",
      "   --------- ------------------------------ 88.6/385.2 MB 59.5 MB/s eta 0:00:05\n",
      "   --------- ------------------------------ 91.1/385.2 MB 54.7 MB/s eta 0:00:06\n",
      "   --------- ------------------------------ 92.8/385.2 MB 54.7 MB/s eta 0:00:06\n",
      "   --------- ------------------------------ 94.9/385.2 MB 54.4 MB/s eta 0:00:06\n",
      "   ---------- ----------------------------- 97.3/385.2 MB 54.7 MB/s eta 0:00:06\n",
      "   ---------- ---------------------------- 100.2/385.2 MB 50.4 MB/s eta 0:00:06\n",
      "   ---------- ---------------------------- 103.2/385.2 MB 59.5 MB/s eta 0:00:05\n",
      "   ---------- ---------------------------- 106.3/385.2 MB 59.5 MB/s eta 0:00:05\n",
      "   ----------- --------------------------- 110.5/385.2 MB 72.6 MB/s eta 0:00:04\n",
      "   ----------- --------------------------- 113.8/385.2 MB 81.8 MB/s eta 0:00:04\n",
      "   ----------- --------------------------- 117.0/385.2 MB 81.8 MB/s eta 0:00:04\n",
      "   ------------ -------------------------- 120.9/385.2 MB 73.1 MB/s eta 0:00:04\n",
      "   ------------ -------------------------- 124.1/385.2 MB 81.8 MB/s eta 0:00:04\n",
      "   ------------ -------------------------- 127.1/385.2 MB 65.6 MB/s eta 0:00:04\n",
      "   ------------- ------------------------- 131.1/385.2 MB 72.6 MB/s eta 0:00:04\n",
      "   ------------- ------------------------- 134.3/385.2 MB 65.2 MB/s eta 0:00:04\n",
      "   ------------- ------------------------- 137.7/385.2 MB 72.6 MB/s eta 0:00:04\n",
      "   -------------- ------------------------ 138.5/385.2 MB 59.8 MB/s eta 0:00:05\n",
      "   -------------- ------------------------ 139.2/385.2 MB 54.4 MB/s eta 0:00:05\n",
      "   -------------- ------------------------ 142.9/385.2 MB 50.4 MB/s eta 0:00:05\n",
      "   -------------- ------------------------ 146.7/385.2 MB 50.4 MB/s eta 0:00:05\n",
      "   --------------- ----------------------- 148.8/385.2 MB 65.6 MB/s eta 0:00:04\n",
      "   --------------- ----------------------- 150.7/385.2 MB 65.6 MB/s eta 0:00:04\n",
      "   --------------- ----------------------- 152.7/385.2 MB 65.6 MB/s eta 0:00:04\n",
      "   --------------- ----------------------- 155.6/385.2 MB 59.5 MB/s eta 0:00:04\n",
      "   ---------------- ---------------------- 158.6/385.2 MB 59.5 MB/s eta 0:00:04\n",
      "   ---------------- ---------------------- 161.4/385.2 MB 59.5 MB/s eta 0:00:04\n",
      "   ---------------- ---------------------- 164.4/385.2 MB 73.1 MB/s eta 0:00:04\n",
      "   ---------------- ---------------------- 165.8/385.2 MB 65.2 MB/s eta 0:00:04\n",
      "   ---------------- ---------------------- 167.3/385.2 MB 54.7 MB/s eta 0:00:04\n",
      "   ----------------- --------------------- 169.2/385.2 MB 50.4 MB/s eta 0:00:05\n",
      "   ----------------- --------------------- 170.6/385.2 MB 50.1 MB/s eta 0:00:05\n",
      "   ----------------- --------------------- 171.2/385.2 MB 40.9 MB/s eta 0:00:06\n",
      "   ----------------- --------------------- 173.8/385.2 MB 38.6 MB/s eta 0:00:06\n",
      "   ----------------- --------------------- 175.0/385.2 MB 36.4 MB/s eta 0:00:06\n",
      "   ------------------ -------------------- 178.1/385.2 MB 40.9 MB/s eta 0:00:06\n",
      "   ------------------ -------------------- 181.1/385.2 MB 54.4 MB/s eta 0:00:04\n",
      "   ------------------ -------------------- 182.9/385.2 MB 50.4 MB/s eta 0:00:05\n",
      "   ------------------ -------------------- 184.8/385.2 MB 54.7 MB/s eta 0:00:04\n",
      "   ------------------ -------------------- 186.8/385.2 MB 59.5 MB/s eta 0:00:04\n",
      "   ------------------- ------------------- 189.3/385.2 MB 50.4 MB/s eta 0:00:04\n",
      "   ------------------- ------------------- 190.2/385.2 MB 43.5 MB/s eta 0:00:05\n",
      "   ------------------- ------------------- 193.2/385.2 MB 43.7 MB/s eta 0:00:05\n",
      "   ------------------- ------------------- 196.0/385.2 MB 46.9 MB/s eta 0:00:05\n",
      "   -------------------- ------------------ 198.4/385.2 MB 50.4 MB/s eta 0:00:04\n",
      "   -------------------- ------------------ 200.8/385.2 MB 65.2 MB/s eta 0:00:03\n",
      "   -------------------- ------------------ 203.4/385.2 MB 65.6 MB/s eta 0:00:03\n",
      "   -------------------- ------------------ 204.5/385.2 MB 50.4 MB/s eta 0:00:04\n",
      "   -------------------- ------------------ 205.8/385.2 MB 43.5 MB/s eta 0:00:05\n",
      "   -------------------- ------------------ 207.0/385.2 MB 40.9 MB/s eta 0:00:05\n",
      "   --------------------- ----------------- 208.3/385.2 MB 36.4 MB/s eta 0:00:05\n",
      "   --------------------- ----------------- 210.9/385.2 MB 36.4 MB/s eta 0:00:05\n",
      "   --------------------- ----------------- 213.5/385.2 MB 38.5 MB/s eta 0:00:05\n",
      "   --------------------- ----------------- 215.6/385.2 MB 46.7 MB/s eta 0:00:04\n",
      "   ---------------------- ---------------- 217.8/385.2 MB 54.7 MB/s eta 0:00:04\n",
      "   ---------------------- ---------------- 219.6/385.2 MB 54.7 MB/s eta 0:00:04\n",
      "   ---------------------- ---------------- 221.6/385.2 MB 50.4 MB/s eta 0:00:04\n",
      "   ---------------------- ---------------- 224.7/385.2 MB 50.4 MB/s eta 0:00:04\n",
      "   ---------------------- ---------------- 227.1/385.2 MB 50.4 MB/s eta 0:00:04\n",
      "   ----------------------- --------------- 229.5/385.2 MB 59.5 MB/s eta 0:00:03\n",
      "   ----------------------- --------------- 231.5/385.2 MB 54.4 MB/s eta 0:00:03\n",
      "   ----------------------- --------------- 234.1/385.2 MB 54.4 MB/s eta 0:00:03\n",
      "   ----------------------- --------------- 236.6/385.2 MB 54.4 MB/s eta 0:00:03\n",
      "   ------------------------ -------------- 239.2/385.2 MB 54.7 MB/s eta 0:00:03\n",
      "   ------------------------ -------------- 240.7/385.2 MB 54.4 MB/s eta 0:00:03\n",
      "   ------------------------ -------------- 242.9/385.2 MB 50.1 MB/s eta 0:00:03\n",
      "   ------------------------ -------------- 244.8/385.2 MB 50.4 MB/s eta 0:00:03\n",
      "   ------------------------- ------------- 247.2/385.2 MB 50.4 MB/s eta 0:00:03\n",
      "   ------------------------- ------------- 247.6/385.2 MB 50.4 MB/s eta 0:00:03\n",
      "   ------------------------- ------------- 247.6/385.2 MB 50.4 MB/s eta 0:00:03\n",
      "   ------------------------- ------------- 247.6/385.2 MB 31.2 MB/s eta 0:00:05\n",
      "   ------------------------- ------------- 247.8/385.2 MB 29.7 MB/s eta 0:00:05\n",
      "   ------------------------- ------------- 247.8/385.2 MB 29.7 MB/s eta 0:00:05\n",
      "   ------------------------- ------------- 247.9/385.2 MB 21.8 MB/s eta 0:00:07\n",
      "   ------------------------- ------------- 248.9/385.2 MB 21.1 MB/s eta 0:00:07\n",
      "   ------------------------- ------------- 251.8/385.2 MB 21.8 MB/s eta 0:00:07\n",
      "   ------------------------- ------------- 254.6/385.2 MB 22.6 MB/s eta 0:00:06\n",
      "   -------------------------- ------------ 256.9/385.2 MB 21.8 MB/s eta 0:00:06\n",
      "   -------------------------- ------------ 259.3/385.2 MB 65.6 MB/s eta 0:00:02\n",
      "   -------------------------- ------------ 262.4/385.2 MB 59.5 MB/s eta 0:00:03\n",
      "   -------------------------- ------------ 264.9/385.2 MB 65.6 MB/s eta 0:00:02\n",
      "   --------------------------- ----------- 267.3/385.2 MB 59.5 MB/s eta 0:00:02\n",
      "   --------------------------- ----------- 269.8/385.2 MB 59.5 MB/s eta 0:00:02\n",
      "   --------------------------- ----------- 272.2/385.2 MB 65.6 MB/s eta 0:00:02\n",
      "   --------------------------- ----------- 275.5/385.2 MB 65.2 MB/s eta 0:00:02\n",
      "   ---------------------------- ---------- 278.4/385.2 MB 59.5 MB/s eta 0:00:02\n",
      "   ---------------------------- ---------- 281.0/385.2 MB 65.6 MB/s eta 0:00:02\n",
      "   ---------------------------- ---------- 283.0/385.2 MB 59.5 MB/s eta 0:00:02\n",
      "   ---------------------------- ---------- 285.0/385.2 MB 54.7 MB/s eta 0:00:02\n",
      "   ---------------------------- ---------- 286.1/385.2 MB 50.4 MB/s eta 0:00:02\n",
      "   ----------------------------- --------- 286.8/385.2 MB 43.7 MB/s eta 0:00:03\n",
      "   ----------------------------- --------- 289.0/385.2 MB 40.9 MB/s eta 0:00:03\n",
      "   ----------------------------- --------- 290.6/385.2 MB 40.9 MB/s eta 0:00:03\n",
      "   ----------------------------- --------- 292.1/385.2 MB 34.4 MB/s eta 0:00:03\n",
      "   ----------------------------- --------- 294.3/385.2 MB 36.4 MB/s eta 0:00:03\n",
      "   ----------------------------- --------- 295.8/385.2 MB 38.6 MB/s eta 0:00:03\n",
      "   ------------------------------ -------- 297.4/385.2 MB 40.9 MB/s eta 0:00:03\n",
      "   ------------------------------ -------- 299.2/385.2 MB 46.7 MB/s eta 0:00:02\n",
      "   ------------------------------ -------- 301.5/385.2 MB 46.9 MB/s eta 0:00:02\n",
      "   ------------------------------ -------- 303.9/385.2 MB 46.7 MB/s eta 0:00:02\n",
      "   ------------------------------ -------- 305.7/385.2 MB 46.7 MB/s eta 0:00:02\n",
      "   ------------------------------- ------- 307.3/385.2 MB 46.7 MB/s eta 0:00:02\n",
      "   ------------------------------- ------- 308.7/385.2 MB 46.9 MB/s eta 0:00:02\n",
      "   ------------------------------- ------- 311.2/385.2 MB 46.7 MB/s eta 0:00:02\n",
      "   ------------------------------- ------- 311.8/385.2 MB 40.9 MB/s eta 0:00:02\n",
      "   ------------------------------- ------- 312.7/385.2 MB 38.6 MB/s eta 0:00:02\n",
      "   ------------------------------- ------- 315.0/385.2 MB 38.6 MB/s eta 0:00:02\n",
      "   -------------------------------- ------ 316.6/385.2 MB 34.4 MB/s eta 0:00:02\n",
      "   -------------------------------- ------ 318.5/385.2 MB 38.6 MB/s eta 0:00:02\n",
      "   -------------------------------- ------ 320.8/385.2 MB 38.5 MB/s eta 0:00:02\n",
      "   -------------------------------- ------ 323.4/385.2 MB 54.7 MB/s eta 0:00:02\n",
      "   -------------------------------- ------ 325.7/385.2 MB 50.1 MB/s eta 0:00:02\n",
      "   --------------------------------- ----- 328.3/385.2 MB 54.4 MB/s eta 0:00:02\n",
      "   --------------------------------- ----- 331.0/385.2 MB 50.4 MB/s eta 0:00:02\n",
      "   --------------------------------- ----- 333.5/385.2 MB 54.4 MB/s eta 0:00:01\n",
      "   ---------------------------------- ---- 335.8/385.2 MB 59.5 MB/s eta 0:00:01\n",
      "   ---------------------------------- ---- 338.4/385.2 MB 54.7 MB/s eta 0:00:01\n",
      "   ---------------------------------- ---- 340.9/385.2 MB 54.7 MB/s eta 0:00:01\n",
      "   ---------------------------------- ---- 343.4/385.2 MB 59.8 MB/s eta 0:00:01\n",
      "   ---------------------------------- ---- 344.3/385.2 MB 50.4 MB/s eta 0:00:01\n",
      "   ----------------------------------- --- 346.8/385.2 MB 50.4 MB/s eta 0:00:01\n",
      "   ----------------------------------- --- 349.0/385.2 MB 46.7 MB/s eta 0:00:01\n",
      "   ----------------------------------- --- 351.1/385.2 MB 46.9 MB/s eta 0:00:01\n",
      "   ----------------------------------- --- 352.8/385.2 MB 43.7 MB/s eta 0:00:01\n",
      "   ----------------------------------- --- 353.5/385.2 MB 43.5 MB/s eta 0:00:01\n",
      "   ----------------------------------- --- 354.7/385.2 MB 40.9 MB/s eta 0:00:01\n",
      "   ------------------------------------ -- 355.7/385.2 MB 38.5 MB/s eta 0:00:01\n",
      "   ------------------------------------ -- 356.8/385.2 MB 32.8 MB/s eta 0:00:01\n",
      "   ------------------------------------ -- 358.0/385.2 MB 31.2 MB/s eta 0:00:01\n",
      "   ------------------------------------ -- 359.3/385.2 MB 31.2 MB/s eta 0:00:01\n",
      "   ------------------------------------ -- 360.9/385.2 MB 29.7 MB/s eta 0:00:01\n",
      "   ------------------------------------ -- 361.6/385.2 MB 27.3 MB/s eta 0:00:01\n",
      "   ------------------------------------ -- 364.0/385.2 MB 29.7 MB/s eta 0:00:01\n",
      "   ------------------------------------- - 366.8/385.2 MB 40.9 MB/s eta 0:00:01\n",
      "   ------------------------------------- - 368.5/385.2 MB 40.9 MB/s eta 0:00:01\n",
      "   ------------------------------------- - 371.1/385.2 MB 54.7 MB/s eta 0:00:01\n",
      "   ------------------------------------- - 374.5/385.2 MB 65.6 MB/s eta 0:00:01\n",
      "   --------------------------------------  377.9/385.2 MB 72.6 MB/s eta 0:00:01\n",
      "   --------------------------------------  381.0/385.2 MB 72.6 MB/s eta 0:00:01\n",
      "   --------------------------------------  384.0/385.2 MB 65.2 MB/s eta 0:00:01\n",
      "   --------------------------------------  385.1/385.2 MB 72.6 MB/s eta 0:00:01\n",
      "   --------------------------------------  385.1/385.2 MB 72.6 MB/s eta 0:00:01\n",
      "   --------------------------------------  385.1/385.2 MB 72.6 MB/s eta 0:00:01\n",
      "   --------------------------------------  385.1/385.2 MB 72.6 MB/s eta 0:00:01\n",
      "   --------------------------------------  385.1/385.2 MB 72.6 MB/s eta 0:00:01\n",
      "   --------------------------------------  385.1/385.2 MB 72.6 MB/s eta 0:00:01\n",
      "   --------------------------------------  385.1/385.2 MB 72.6 MB/s eta 0:00:01\n",
      "   --------------------------------------  385.1/385.2 MB 72.6 MB/s eta 0:00:01\n",
      "   --------------------------------------  385.1/385.2 MB 72.6 MB/s eta 0:00:01\n",
      "   --------------------------------------  385.1/385.2 MB 72.6 MB/s eta 0:00:01\n",
      "   --------------------------------------  385.1/385.2 MB 72.6 MB/s eta 0:00:01\n",
      "   --------------------------------------  385.1/385.2 MB 72.6 MB/s eta 0:00:01\n",
      "   --------------------------------------  385.1/385.2 MB 72.6 MB/s eta 0:00:01\n",
      "   --------------------------------------  385.1/385.2 MB 72.6 MB/s eta 0:00:01\n",
      "   --------------------------------------  385.1/385.2 MB 72.6 MB/s eta 0:00:01\n",
      "   --------------------------------------  385.1/385.2 MB 72.6 MB/s eta 0:00:01\n",
      "   --------------------------------------  385.1/385.2 MB 72.6 MB/s eta 0:00:01\n",
      "   --------------------------------------  385.1/385.2 MB 72.6 MB/s eta 0:00:01\n",
      "   --------------------------------------  385.1/385.2 MB 72.6 MB/s eta 0:00:01\n",
      "   --------------------------------------  385.1/385.2 MB 72.6 MB/s eta 0:00:01\n",
      "   --------------------------------------  385.1/385.2 MB 72.6 MB/s eta 0:00:01\n",
      "   --------------------------------------  385.1/385.2 MB 72.6 MB/s eta 0:00:01\n",
      "   --------------------------------------  385.1/385.2 MB 72.6 MB/s eta 0:00:01\n",
      "   ---------------------------------------- 385.2/385.2 MB 9.3 MB/s eta 0:00:00\n",
      "Downloading astunparse-1.6.3-py2.py3-none-any.whl (12 kB)\n",
      "Downloading flatbuffers-24.3.25-py2.py3-none-any.whl (26 kB)\n",
      "Downloading gast-0.6.0-py3-none-any.whl (21 kB)\n",
      "Downloading google_pasta-0.2.0-py3-none-any.whl (57 kB)\n",
      "   ---------------------------------------- 0.0/57.5 kB ? eta -:--:--\n",
      "   ---------------------------------------- 57.5/57.5 kB 1.5 MB/s eta 0:00:00\n",
      "Downloading grpcio-1.66.1-cp312-cp312-win_amd64.whl (4.3 MB)\n",
      "   ---------------------------------------- 0.0/4.3 MB ? eta -:--:--\n",
      "   ---------------------------- ----------- 3.0/4.3 MB 63.6 MB/s eta 0:00:01\n",
      "   ---------------------------------------- 4.3/4.3 MB 54.7 MB/s eta 0:00:00\n",
      "Downloading libclang-18.1.1-py2.py3-none-win_amd64.whl (26.4 MB)\n",
      "   ---------------------------------------- 0.0/26.4 MB ? eta -:--:--\n",
      "   --- ------------------------------------ 2.4/26.4 MB 51.4 MB/s eta 0:00:01\n",
      "   ------- -------------------------------- 4.7/26.4 MB 49.8 MB/s eta 0:00:01\n",
      "   ----------- ---------------------------- 7.5/26.4 MB 59.8 MB/s eta 0:00:01\n",
      "   -------------- ------------------------- 9.8/26.4 MB 57.1 MB/s eta 0:00:01\n",
      "   ---------------- ----------------------- 11.2/26.4 MB 50.1 MB/s eta 0:00:01\n",
      "   -------------------- ------------------- 13.5/26.4 MB 54.4 MB/s eta 0:00:01\n",
      "   ------------------------ --------------- 15.9/26.4 MB 54.4 MB/s eta 0:00:01\n",
      "   --------------------------- ------------ 17.9/26.4 MB 46.7 MB/s eta 0:00:01\n",
      "   ------------------------------ --------- 19.9/26.4 MB 43.7 MB/s eta 0:00:01\n",
      "   --------------------------------- ------ 22.3/26.4 MB 50.4 MB/s eta 0:00:01\n",
      "   ------------------------------------- -- 25.0/26.4 MB 54.4 MB/s eta 0:00:01\n",
      "   ---------------------------------------  26.4/26.4 MB 54.7 MB/s eta 0:00:01\n",
      "   ---------------------------------------  26.4/26.4 MB 54.7 MB/s eta 0:00:01\n",
      "   ---------------------------------------  26.4/26.4 MB 54.7 MB/s eta 0:00:01\n",
      "   ---------------------------------------- 26.4/26.4 MB 29.8 MB/s eta 0:00:00\n",
      "Downloading ml_dtypes-0.4.1-cp312-cp312-win_amd64.whl (127 kB)\n",
      "   ---------------------------------------- 0.0/127.5 kB ? eta -:--:--\n",
      "   ---------------------------------------- 127.5/127.5 kB 7.8 MB/s eta 0:00:00\n",
      "Downloading opt_einsum-3.3.0-py3-none-any.whl (65 kB)\n",
      "   ---------------------------------------- 0.0/65.5 kB ? eta -:--:--\n",
      "   ---------------------------------------- 65.5/65.5 kB 3.7 MB/s eta 0:00:00\n",
      "Downloading tensorboard-2.17.1-py3-none-any.whl (5.5 MB)\n",
      "   ---------------------------------------- 0.0/5.5 MB ? eta -:--:--\n",
      "   ------------ --------------------------- 1.7/5.5 MB 55.2 MB/s eta 0:00:01\n",
      "   -------------------------- ------------- 3.7/5.5 MB 39.0 MB/s eta 0:00:01\n",
      "   ---------------------------------------  5.5/5.5 MB 43.9 MB/s eta 0:00:01\n",
      "   ---------------------------------------- 5.5/5.5 MB 35.2 MB/s eta 0:00:00\n",
      "Downloading termcolor-2.4.0-py3-none-any.whl (7.7 kB)\n",
      "Downloading tensorboard_data_server-0.7.2-py3-none-any.whl (2.4 kB)\n",
      "Installing collected packages: libclang, flatbuffers, termcolor, tensorboard-data-server, opt-einsum, ml-dtypes, grpcio, google-pasta, gast, astunparse, tensorboard, tensorflow-intel, tensorflow\n",
      "  Attempting uninstall: ml-dtypes\n",
      "    Found existing installation: ml_dtypes 0.5.0\n",
      "    Uninstalling ml_dtypes-0.5.0:\n",
      "      Successfully uninstalled ml_dtypes-0.5.0\n",
      "Successfully installed astunparse-1.6.3 flatbuffers-24.3.25 gast-0.6.0 google-pasta-0.2.0 grpcio-1.66.1 libclang-18.1.1 ml-dtypes-0.4.1 opt-einsum-3.3.0 tensorboard-2.17.1 tensorboard-data-server-0.7.2 tensorflow-2.17.0 tensorflow-intel-2.17.0 termcolor-2.4.0\n",
      "Note: you may need to restart the kernel to use updated packages.\n"
     ]
    }
   ],
   "source": [
    "pip install tensorflow"
   ]
  },
  {
   "cell_type": "code",
   "execution_count": 12,
   "metadata": {},
   "outputs": [
    {
     "name": "stdout",
     "output_type": "stream",
     "text": [
      "3.5.0\n",
      "2.17.0\n"
     ]
    }
   ],
   "source": [
    "import keras\n",
    "import tensorflow as tf\n",
    "print(keras.__version__)\n",
    "print(tf.__version__)"
   ]
  },
  {
   "cell_type": "code",
   "execution_count": 13,
   "metadata": {},
   "outputs": [],
   "source": [
    "\n",
    "import numpy as np\n",
    "import os"
   ]
  },
  {
   "cell_type": "code",
   "execution_count": 16,
   "metadata": {},
   "outputs": [],
   "source": [
    "from tensorflow.keras.layers import Input, Dense\n"
   ]
  },
  {
   "cell_type": "markdown",
   "metadata": {},
   "source": [
    "In this lab, you'll import a bunch of images to correctly classify them as \"Santa\", meaning that Santa is present on the image or \"not Santa\" meaning that something else is in the images. \n",
    "\n",
    "If you have a look at this GitHub repository, you'll notice that the images are simply stored in `.jpeg` files and stored under the folder `'/data'`. Luckily, `keras` has great modules that make importing images stored in this type of format easy. We'll do this for you in the cell below.\n",
    "\n",
    "The images in the `'/data'` folder have various resolutions. We will reshape them so they are all 64 x 64 pixels.\n",
    "\n",
    "Run the code as you see it below."
   ]
  },
  {
   "cell_type": "code",
   "execution_count": 24,
   "metadata": {},
   "outputs": [],
   "source": [
    "from keras.src.legacy.preprocessing.image import ImageDataGenerator"
   ]
  },
  {
   "cell_type": "code",
   "execution_count": 25,
   "metadata": {},
   "outputs": [],
   "source": [
    "from tensorflow.keras.utils import array_to_img, img_to_array, load_img"
   ]
  },
  {
   "cell_type": "code",
   "execution_count": 26,
   "metadata": {},
   "outputs": [
    {
     "name": "stdout",
     "output_type": "stream",
     "text": [
      "Found 132 images belonging to 2 classes.\n",
      "Found 790 images belonging to 2 classes.\n"
     ]
    }
   ],
   "source": [
    "# Directory path\n",
    "train_data_dir = 'data/train'\n",
    "test_data_dir = 'data/validation'\n",
    "\n",
    "# Get all the data in the directory data/validation (132 images), and reshape them\n",
    "test_generator = ImageDataGenerator().flow_from_directory(\n",
    "        test_data_dir, \n",
    "        target_size=(64, 64), batch_size=132)\n",
    "\n",
    "# Get all the data in the directory data/train (790 images), and reshape them\n",
    "train_generator = ImageDataGenerator().flow_from_directory(\n",
    "        train_data_dir, \n",
    "        target_size=(64, 64), batch_size=790)\n",
    "\n",
    "# Create the datasets\n",
    "train_images, train_labels = next(train_generator)\n",
    "test_images, test_labels = next(test_generator)"
   ]
  },
  {
   "cell_type": "markdown",
   "metadata": {},
   "source": [
    "## Inspect and prepare data"
   ]
  },
  {
   "cell_type": "markdown",
   "metadata": {},
   "source": [
    "## Look at some images"
   ]
  },
  {
   "cell_type": "markdown",
   "metadata": {},
   "source": [
    "Note that we have four numpy arrays now: `train_images`, `train_labels`, `test_images`, and `test_labels`. We'll need to make some changes to the data in order to work with them, but before we do anything else, let's have a look at some of the images we loaded in `train_images`. You can use `array_to_img()` from `keras.processing.image` on any image (select any `train_images` using `train_images[index]` to look at it). "
   ]
  },
  {
   "cell_type": "code",
   "execution_count": 27,
   "metadata": {},
   "outputs": [
    {
     "data": {
      "image/jpeg": "[encoded data removed]",
      "image/png": "[encoded data removed]",
      "text/plain": [
       "<PIL.Image.Image image mode=RGB size=64x64>"
      ]
     },
     "execution_count": 27,
     "metadata": {},
     "output_type": "execute_result"
    }
   ],
   "source": [
    "# Preview an image\n",
    "array_to_img(train_images[0])"
   ]
  },
  {
   "cell_type": "code",
   "execution_count": 28,
   "metadata": {},
   "outputs": [
    {
     "data": {
      "image/jpeg": "[encoded data removed]",
      "image/png": "[encoded data removed]",
      "text/plain": [
       "<PIL.Image.Image image mode=RGB size=64x64>"
      ]
     },
     "execution_count": 28,
     "metadata": {},
     "output_type": "execute_result"
    }
   ],
   "source": [
    "# Preview another image\n",
    "array_to_img(train_images[1])"
   ]
  },
  {
   "cell_type": "markdown",
   "metadata": {},
   "source": [
    "## The shape of data"
   ]
  },
  {
   "cell_type": "markdown",
   "metadata": {},
   "source": [
    "Now, let's use `np.shape()` to look at what these numpy arrays look like."
   ]
  },
  {
   "cell_type": "code",
   "execution_count": 30,
   "metadata": {},
   "outputs": [
    {
     "data": {
      "text/plain": [
       "((790, 64, 64, 3), (790, 2), (132, 64, 64, 3), (132, 2))"
      ]
     },
     "execution_count": 30,
     "metadata": {},
     "output_type": "execute_result"
    }
   ],
   "source": [
    "# Preview the shape of both the images and labels for both the train and test sets (4 objects total)\n",
    "np.shape(train_images), np.shape(train_labels), np.shape(test_images), np.shape(test_labels)\n"
   ]
  },
  {
   "cell_type": "markdown",
   "metadata": {},
   "source": [
    "##  `train_images` and `test_images`"
   ]
  },
  {
   "cell_type": "markdown",
   "metadata": {},
   "source": [
    "Let's start with `train_images`. From the lesson, you might remember that the expected input shape is $n$ x $l$. How does this relate to what we see here?\n",
    "\n",
    "$l$ denotes the number of observations, or the number of images. The number of images in `train_images` is 790. $n$ is the number of elements in the feature vector for each image, or put differently, $n$ is the number of rows when unrowing the 3 (RGB) 64 x 64 matrices. \n",
    "\n",
    "So, translated to this example, we need to transform our `(790, 64, 64, 3)` matrix to a `(64*64*3, 790)` matrix! \n",
    "\n",
    "\n",
    "> Hint: You should use both the `.reshape()` method and then transpose the result using `.T`."
   ]
  },
  {
   "cell_type": "code",
   "execution_count": 32,
   "metadata": {},
   "outputs": [],
   "source": [
    "# Reshape the train images \n",
    "train_img_unrow = train_images.reshape(790, -1).T"
   ]
  },
  {
   "cell_type": "markdown",
   "metadata": {},
   "source": [
    "Verify that the shape of the the newly created `train_img_unrow` is correct."
   ]
  },
  {
   "cell_type": "code",
   "execution_count": 33,
   "metadata": {},
   "outputs": [
    {
     "data": {
      "text/plain": [
       "(12288, 790)"
      ]
     },
     "execution_count": 33,
     "metadata": {},
     "output_type": "execute_result"
    }
   ],
   "source": [
    "# Preview the shape of train_img_unrow\n",
    "train_img_unrow.shape"
   ]
  },
  {
   "cell_type": "markdown",
   "metadata": {},
   "source": [
    "Next, let's transform `test_images` in a similar way. Note that the dimensions are different here! Where we needed to have a matrix shape of $n$ x $l$ for `train_images`; for `test_images`, we need to get to a shape of $n$ x $m$. What is $m$ here?"
   ]
  },
  {
   "cell_type": "code",
   "execution_count": 34,
   "metadata": {},
   "outputs": [],
   "source": [
    "# Define appropriate m \n",
    "m = 132\n",
    "test_img_unrow = test_images.reshape(m, -1).T"
   ]
  },
  {
   "cell_type": "code",
   "execution_count": 35,
   "metadata": {},
   "outputs": [
    {
     "data": {
      "text/plain": [
       "(12288, 132)"
      ]
     },
     "execution_count": 35,
     "metadata": {},
     "output_type": "execute_result"
    }
   ],
   "source": [
    "# Preview the shape of test_img_unrow\n",
    "test_img_unrow.shape"
   ]
  },
  {
   "cell_type": "markdown",
   "metadata": {},
   "source": [
    "## `train_labels` and `test_labels`"
   ]
  },
  {
   "cell_type": "markdown",
   "metadata": {},
   "source": [
    "Earlier, you noticed that `train_labels` and `test_labels` have shapes of $(790, 2)$ and $(132, 2)$ respectively. In the lesson, we expected $1$ x $l$ and $1$ x $m$.\n",
    "\n",
    "Let's have a closer look."
   ]
  },
  {
   "cell_type": "code",
   "execution_count": 36,
   "metadata": {},
   "outputs": [
    {
     "data": {
      "text/plain": [
       "array([[1., 0.],\n",
       "       [0., 1.],\n",
       "       [0., 1.],\n",
       "       ...,\n",
       "       [0., 1.],\n",
       "       [0., 1.],\n",
       "       [0., 1.]], dtype=float32)"
      ]
     },
     "execution_count": 36,
     "metadata": {},
     "output_type": "execute_result"
    }
   ],
   "source": [
    "# Run this cell; no need to edit\n",
    "train_labels "
   ]
  },
  {
   "cell_type": "markdown",
   "metadata": {},
   "source": [
    "Looking at this, it's clear that for each observation (or image), `train_labels` doesn't simply have an output of 1 or 0, but a pair - either `[0, 1]` or `[1, 0]`.\n",
    "\n",
    "Having this information, we still don't know which pair corresponds with `santa` versus `not_santa`. Luckily, this was stored using `keras.preprocessing_image`, and you can get more info using the command `train_generator.class_indices`."
   ]
  },
  {
   "cell_type": "code",
   "execution_count": 37,
   "metadata": {},
   "outputs": [
    {
     "data": {
      "text/plain": [
       "{'not_santa': 0, 'santa': 1}"
      ]
     },
     "execution_count": 37,
     "metadata": {},
     "output_type": "execute_result"
    }
   ],
   "source": [
    "# Run this cell; no need to edit\n",
    "train_generator.class_indices "
   ]
  },
  {
   "cell_type": "markdown",
   "metadata": {},
   "source": [
    "Index 0 (the first column) represents `not_santa`, index 1 represents `santa`. Select one of the two columns and transpose the result such that you get $1$ x $l$ and $1$ x $m$ vectors respectively, and value `1` represents `santa`. "
   ]
  },
  {
   "cell_type": "code",
   "execution_count": 38,
   "metadata": {},
   "outputs": [],
   "source": [
    "# Your code here\n",
    "train_labels_final = train_labels[:, 1].reshape(1, -1)"
   ]
  },
  {
   "cell_type": "code",
   "execution_count": 39,
   "metadata": {},
   "outputs": [
    {
     "data": {
      "text/plain": [
       "(1, 790)"
      ]
     },
     "execution_count": 39,
     "metadata": {},
     "output_type": "execute_result"
    }
   ],
   "source": [
    "# Run this cell; no need to edit\n",
    "np.shape(train_labels_final) "
   ]
  },
  {
   "cell_type": "code",
   "execution_count": 40,
   "metadata": {},
   "outputs": [],
   "source": [
    "# Your code here\n",
    "test_labels_final = test_labels[:, 1].reshape(1, -1)"
   ]
  },
  {
   "cell_type": "code",
   "execution_count": 41,
   "metadata": {},
   "outputs": [
    {
     "data": {
      "text/plain": [
       "(1, 132)"
      ]
     },
     "execution_count": 41,
     "metadata": {},
     "output_type": "execute_result"
    }
   ],
   "source": [
    "# Run this cell; no need to edit\n",
    "np.shape(test_labels_final) "
   ]
  },
  {
   "cell_type": "markdown",
   "metadata": {},
   "source": [
    "As a final sanity check, look at an image and the corresponding label, so we're sure that santa is indeed stored as 1.\n",
    "\n",
    "- First, use `array_to_image()` again on the original `train_images` with index 240 to look at this particular image \n",
    "- Use `train_labels_final` to get the 240th label "
   ]
  },
  {
   "cell_type": "code",
   "execution_count": 42,
   "metadata": {},
   "outputs": [
    {
     "data": {
      "image/jpeg": "[encoded data removed]",
      "image/png": "[encoded data removed]",
      "text/plain": [
       "<PIL.Image.Image image mode=RGB size=64x64>"
      ]
     },
     "execution_count": 42,
     "metadata": {},
     "output_type": "execute_result"
    }
   ],
   "source": [
    "# Preview train image at index 240\n",
    "array_to_img(train_images[240])"
   ]
  },
  {
   "cell_type": "code",
   "execution_count": 43,
   "metadata": {},
   "outputs": [
    {
     "data": {
      "text/plain": [
       "array([0.], dtype=float32)"
      ]
     },
     "execution_count": 43,
     "metadata": {},
     "output_type": "execute_result"
    }
   ],
   "source": [
    "# Preview train label at index 240\n",
    "train_labels_final[:, 240]"
   ]
  },
  {
   "cell_type": "markdown",
   "metadata": {},
   "source": [
    "This seems to be correct! Feel free to try out other indices as well."
   ]
  },
  {
   "cell_type": "markdown",
   "metadata": {},
   "source": [
    "## Standardize the data"
   ]
  },
  {
   "cell_type": "markdown",
   "metadata": {},
   "source": [
    "Remember that each RGB pixel in an image takes a value between 0 and 255. In Deep Learning, it is very common to standardize and/or center your dataset. For images, a common thing that is done is to make sure each pixel value is between 0 and 1. This can be done by dividing the entire matrix by 255. Do this here for the `train_img_unrow` and `test_img_unrow`. "
   ]
  },
  {
   "cell_type": "code",
   "execution_count": 44,
   "metadata": {},
   "outputs": [
    {
     "data": {
      "text/plain": [
       "numpy.ndarray"
      ]
     },
     "execution_count": 44,
     "metadata": {},
     "output_type": "execute_result"
    }
   ],
   "source": [
    "# Your code here \n",
    "train_img_final = train_img_unrow / 255\n",
    "test_img_final = test_img_unrow / 255\n",
    "\n",
    "type(test_img_unrow)"
   ]
  },
  {
   "cell_type": "markdown",
   "metadata": {},
   "source": [
    "## Build a logistic regression-based neural network"
   ]
  },
  {
   "cell_type": "markdown",
   "metadata": {},
   "source": [
    "## Math recap"
   ]
  },
  {
   "cell_type": "markdown",
   "metadata": {},
   "source": [
    "Now we can go ahead and build our own basic logistic regression-based neural network to distinguish images with Santa from images without Santa. You saw in the lesson that logistic regression can actually be represented as a very simple neural network.\n",
    "\n",
    "Remember that we defined that, for each $x^{(i)}$:\n",
    "\n",
    "\n",
    "$$ \\mathcal{L}(\\hat y ^{(i)}, y^{(i)}) =  - \\big( y^{(i)} \\log(\\hat y^{(i)}) + (1-y^{(i)} )  \\log(1-\\hat y^{(i)})\\big)$$\n",
    "\n",
    "$$\\hat{y}^{(i)} = \\sigma(z^{(i)}) = \\frac{1}{1 + e^{-(z^{(i)})}}$$ \n",
    "\n",
    "$$z^{(i)} = w^T x^{(i)} + b$$\n",
    "\n",
    "The cost function is then given by:\n",
    "$$J(w,b) = \\dfrac{1}{l}\\displaystyle\\sum^l_{i=1}\\mathcal{L}(\\hat y^{(i)}, y^{(i)})$$"
   ]
  },
  {
   "cell_type": "markdown",
   "metadata": {},
   "source": [
    "In the remainder of this lab, you'll do the following:\n",
    "\n",
    "   - Initialize the parameters of the model\n",
    "   - Perform forward propagation, and calculate the current loss\n",
    "   - Perform backward propagation (which is basically calculating the current gradient)\n",
    "   - Update the parameters (gradient descent)"
   ]
  },
  {
   "cell_type": "markdown",
   "metadata": {},
   "source": [
    "## Parameter initialization"
   ]
  },
  {
   "cell_type": "markdown",
   "metadata": {},
   "source": [
    "$w$ and $b$ are the unknown parameters to start with: \n",
    "- remember that $b$ is a scalar\n",
    "- $w$ however, is a vector of shape $n$ x $1$, with $n$ being `horizontal_pixel x vertical_pixel x 3`"
   ]
  },
  {
   "cell_type": "markdown",
   "metadata": {},
   "source": [
    "## Initialize $b$"
   ]
  },
  {
   "cell_type": "markdown",
   "metadata": {},
   "source": [
    " Initialize $b$ as a scalar with value 0."
   ]
  },
  {
   "cell_type": "code",
   "execution_count": 46,
   "metadata": {},
   "outputs": [],
   "source": [
    "# Your code here\n",
    "b = 0"
   ]
  },
  {
   "cell_type": "markdown",
   "metadata": {},
   "source": [
    "## Initialize $w$"
   ]
  },
  {
   "cell_type": "markdown",
   "metadata": {},
   "source": [
    "Define a function `init_w()`, with a parameter `n`. The function should return an array with zeros that has a shape $n$ x $1$."
   ]
  },
  {
   "cell_type": "code",
   "execution_count": 48,
   "metadata": {},
   "outputs": [],
   "source": [
    "# Define your function\n",
    "def init_w(n):\n",
    "    return np.zeros((n, 1))"
   ]
  },
  {
   "cell_type": "code",
   "execution_count": 49,
   "metadata": {},
   "outputs": [],
   "source": [
    "# Call your function using appropriate parameters\n",
    "w = init_w(64*64*3)"
   ]
  },
  {
   "cell_type": "markdown",
   "metadata": {},
   "source": [
    "## Forward propagation"
   ]
  },
  {
   "cell_type": "markdown",
   "metadata": {},
   "source": [
    "In forward propagation, you:\n",
    "- get `x`\n",
    "- compute `y_hat`: \n",
    "\n",
    "$$ (\\hat y^{(1)}, \\hat y^{(2)}, \\ldots , \\hat y^{(l)})= \\sigma(w^T x + b) = \\Biggr(\\dfrac{1}{1+exp(w^T x^{(1)}+ b)},\\ldots, \\dfrac{1}{1+exp(w^T x^{(l)}+ b)}\\Biggr) $$\n",
    "- You calculate the `cost` function: $J(w,b) = -\\dfrac{1}{l}\\displaystyle\\sum_{i=1}^{l}y^{(i)}\\log(\\hat y^{(i)})+(1-y^{(i)})\\log(1-\\hat y^{(i)})$\n",
    "\n",
    "Here are the two formulas you will be using to compute the gradients. Don't be scared by the mathematics. The long formulas are just to show that this corresponds with what we derived in the lesson!\n",
    "\n",
    "$$ \\frac{dJ(w,b)}{dw} = \\displaystyle\\frac{1}{l}\\displaystyle\\sum^l_{i=1} \\frac{d\\mathcal{L}(\\hat y^{(i)}, y^{(i)})}{dw}= \\displaystyle\\frac{1}{l}\\displaystyle\\sum^l_{i=1} x^{(i)} dz^{(i)}  = \\displaystyle\\frac{1}{l}\\displaystyle\\sum^l_{i=1} x^{(i)}(\\hat y^{(i)}-y^{(i)})  = \\frac{1}{l}x(\\hat y-y)^T$$\n",
    "\n",
    "$$ \\frac{dJ(w,b)}{db} = \\displaystyle\\frac{1}{l}\\displaystyle\\sum^l_{i=1} \\frac{d\\mathcal{L}(\\hat y^{(i)}, y^{(i)})}{db}= \\displaystyle\\frac{1}{l}\\displaystyle\\sum^l_{i=1} dz^{(i)}  = \\displaystyle\\frac{1}{l}\\displaystyle\\sum^l_{i=1} (\\hat y^{(i)}-y^{(i)})$$"
   ]
  },
  {
   "cell_type": "code",
   "execution_count": 50,
   "metadata": {},
   "outputs": [],
   "source": [
    "# Define the propagation function\n",
    "def propagation(w, b, x, y):\n",
    "    l = x.shape[1]\n",
    "    z = np.dot(w.T, x) + b\n",
    "    z = np.clip(z, -500, 500)\n",
    "    y_hat = 1/(1 + np.exp(-z))\n",
    "    epsilon = 1e-10\n",
    "    dw = (1/l) * np.sum(x * (y_hat - y))\n",
    "    db = (1/l) * np.sum(y_hat - y)\n",
    "    cost = -(1/l) * np.sum(y * np.log(y_hat + epsilon) + (1-y) * np.log(1-y_hat + epsilon))\n",
    "    \n",
    "    return dw, db, cost"
   ]
  },
  {
   "cell_type": "code",
   "execution_count": 51,
   "metadata": {},
   "outputs": [],
   "source": [
    "# Use the propogation function\n",
    "dw, db, cost = propagation(w, b, train_img_final, train_labels_final)"
   ]
  },
  {
   "cell_type": "code",
   "execution_count": 52,
   "metadata": {},
   "outputs": [
    {
     "name": "stdout",
     "output_type": "stream",
     "text": [
      "-470.32345681078823\n",
      "-0.01139240506329114\n",
      "0.6931471803599453\n"
     ]
    }
   ],
   "source": [
    "print(dw)\n",
    "\n",
    "print(db)\n",
    "\n",
    "print(cost)"
   ]
  },
  {
   "cell_type": "markdown",
   "metadata": {},
   "source": [
    "## Optimization"
   ]
  },
  {
   "cell_type": "markdown",
   "metadata": {},
   "source": [
    "Next, in the optimization step, we have to update $w$ and $b$ as follows:\n",
    "\n",
    "$$w := w - \\alpha * dw$$\n",
    "$$b := b - \\alpha * db$$\n",
    "\n",
    "Note that this `optimization()` function uses the `propagation()` function. It loops over the `propagation()` function in each iteration, and updates both $w$ and $b$ right after that! "
   ]
  },
  {
   "cell_type": "code",
   "execution_count": 53,
   "metadata": {},
   "outputs": [],
   "source": [
    "# Complete the function below using your propagation function to define dw, db and cost \n",
    "# Then use the formula above to update w and b in the optimization function \n",
    "def optimization(w, b, x, y, num_iterations, learning_rate, print_cost = False):\n",
    "    \n",
    "    costs = []\n",
    "    \n",
    "    for i in range(num_iterations):\n",
    "        dw, db, cost = propagation(w, b, x, y)\n",
    "        w = w - learning_rate * dw\n",
    "        b = b - learning_rate * db\n",
    "        \n",
    "        # Record the costs and print them every 50 iterations\n",
    "        if i % 50 == 0:\n",
    "            costs.append(cost)\n",
    "        if print_cost and i % 50 == 0:\n",
    "            print (\"Cost after iteration %i: %f\" %(i, cost))\n",
    "    \n",
    "    return w, b, costs"
   ]
  },
  {
   "cell_type": "code",
   "execution_count": 54,
   "metadata": {},
   "outputs": [
    {
     "name": "stdout",
     "output_type": "stream",
     "text": [
      "Cost after iteration 0: 0.693147\n",
      "Cost after iteration 50: 11.250606\n",
      "Cost after iteration 100: 11.250606\n",
      "Cost after iteration 150: 11.250606\n"
     ]
    }
   ],
   "source": [
    "# Run this block of code as is\n",
    "w, b, costs = optimization(w, b, train_img_final, train_labels_final, \n",
    "                           num_iterations= 151, learning_rate = 0.0001, print_cost = True)"
   ]
  },
  {
   "cell_type": "markdown",
   "metadata": {},
   "source": [
    "## Make label predictions: Santa or not?"
   ]
  },
  {
   "cell_type": "markdown",
   "metadata": {},
   "source": [
    "Next, let's create a function that makes label predictions. We'll later use this when we will look at our Santa pictures. What we want is a label that is equal to 1 when the predicted $y$ is bigger than 0.5, and 0 otherwise. "
   ]
  },
  {
   "cell_type": "code",
   "execution_count": 55,
   "metadata": {},
   "outputs": [],
   "source": [
    "def prediction(w, b, x):\n",
    "    l = x.shape[1]\n",
    "    y_prediction = np.zeros((1, l))\n",
    "    w = w.reshape(x.shape[0], 1)\n",
    "    y_hat = np.dot(w.T, x) + b\n",
    "    p = y_hat\n",
    "    \n",
    "    for i in range(y_hat.shape[1]):\n",
    "        # Transform the probability into a binary classification using 0.5 as the cutoff\n",
    "        if y_hat[0, i] > 0.5:\n",
    "            y_prediction[0, i] = 1\n",
    "        else:    \n",
    "            y_prediction[0, i] = 0\n",
    "    \n",
    "    return y_prediction"
   ]
  },
  {
   "cell_type": "markdown",
   "metadata": {},
   "source": [
    "Let's try this out on a small example. Make sure you have 4 predictions in your output here!"
   ]
  },
  {
   "cell_type": "code",
   "execution_count": 56,
   "metadata": {},
   "outputs": [
    {
     "data": {
      "text/plain": [
       "array([[0., 0., 0., 0.]])"
      ]
     },
     "execution_count": 56,
     "metadata": {},
     "output_type": "execute_result"
    }
   ],
   "source": [
    "# Run this block of code as is\n",
    "w = np.array([[0.035], [0.123], [0.217]])\n",
    "b = 0.2\n",
    "x = np.array([[0.2, 0.4, -1.2, -2], \n",
    "              [1, -2., 0.1, -1], \n",
    "              [0.2, 0.4, -1.2, -2]])\n",
    "\n",
    "prediction(w, b, x)"
   ]
  },
  {
   "cell_type": "markdown",
   "metadata": {},
   "source": [
    "## The overall model"
   ]
  },
  {
   "cell_type": "markdown",
   "metadata": {},
   "source": [
    "Now, let's build the overall model!"
   ]
  },
  {
   "cell_type": "code",
   "execution_count": 57,
   "metadata": {},
   "outputs": [],
   "source": [
    "# Review this code carefully\n",
    "def model(x_train, y_train, x_test, y_test, num_iterations = 2000, learning_rate = 0.5, print_cost = False):\n",
    "\n",
    "    b = 0\n",
    "    w = init_w(np.shape(x_train)[0]) \n",
    "\n",
    "    # Gradient descent (≈ 1 line of code)\n",
    "    w, b, costs = optimization(w, b, x_train, y_train, num_iterations, learning_rate, print_cost)\n",
    "    \n",
    "    y_pred_test = prediction(w, b, x_test)\n",
    "    y_pred_train = prediction(w, b, x_train)\n",
    "\n",
    "    # Print train/test errors\n",
    "    print('train accuracy: {} %'.format(100 - np.mean(np.abs(y_pred_train - y_train)) * 100))\n",
    "    print('test accuracy: {} %'.format(100 - np.mean(np.abs(y_pred_test - y_test)) * 100))\n",
    "\n",
    "    output = {'costs': costs, \n",
    "              'y_pred_test': y_pred_test,  \n",
    "              'y_pred_train' : y_pred_train,  \n",
    "              'w' : w, \n",
    "              'b' : b, \n",
    "              'learning_rate' : learning_rate, \n",
    "              'num_iterations': num_iterations}\n",
    "    \n",
    "    return output"
   ]
  },
  {
   "cell_type": "code",
   "execution_count": null,
   "metadata": {},
   "outputs": [
    {
     "name": "stdout",
     "output_type": "stream",
     "text": [
      "Cost after iteration 0: 0.693147\n",
      "Cost after iteration 50: 11.250606\n",
      "Cost after iteration 100: 11.250606\n",
      "Cost after iteration 150: 11.250606\n",
      "Cost after iteration 200: 11.250606\n",
      "Cost after iteration 250: 11.250606\n",
      "Cost after iteration 300: 11.250606\n",
      "Cost after iteration 350: 11.250606\n",
      "Cost after iteration 400: 11.250606\n",
      "Cost after iteration 450: 11.250606\n"
     ]
    }
   ],
   "source": [
    "# Run the model!\n",
    "# ⏰ Expect your code to take several minutes to run\n",
    "output = model(train_img_final, train_labels_final, test_img_final, test_labels_final,\n",
    "               num_iterations=2000, learning_rate=0.005, print_cost=True)"
   ]
  },
  {
   "cell_type": "markdown",
   "metadata": {},
   "source": [
    "## Summary\n",
    "\n",
    "Well done! In this lab you built your first neural network in order to identify images of Santa! In the upcoming labs you'll see how to extend your neural networks to include a larger number of layers and how to then successively prune these complex schemas to improve test and train accuracies."
   ]
  }
 ],
 "metadata": {
  "kernelspec": {
   "display_name": "Python 3 (ipykernel)",
   "language": "python",
   "name": "python3"
  },
  "language_info": {
   "codemirror_mode": {
    "name": "ipython",
    "version": 3
   },
   "file_extension": ".py",
   "mimetype": "text/x-python",
   "name": "python",
   "nbconvert_exporter": "python",
   "pygments_lexer": "ipython3",
   "version": "3.12.4"
  },
  "toc": {
   "base_numbering": 1,
   "nav_menu": {},
   "number_sections": true,
   "sideBar": true,
   "skip_h1_title": false,
   "title_cell": "Table of Contents",
   "title_sidebar": "Contents",
   "toc_cell": false,
   "toc_position": {},
   "toc_section_display": true,
   "toc_window_display": false
  }
 },
 "nbformat": 4,
 "nbformat_minor": 4
}
